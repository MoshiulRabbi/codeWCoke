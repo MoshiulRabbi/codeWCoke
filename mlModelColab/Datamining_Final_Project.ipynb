{
  "nbformat": 4,
  "nbformat_minor": 0,
  "metadata": {
    "colab": {
      "name": "Datamining_Final_Project.ipynb",
      "provenance": []
    },
    "kernelspec": {
      "name": "python3",
      "display_name": "Python 3"
    },
    "language_info": {
      "name": "python"
    }
  },
  "cells": [
    {
      "cell_type": "code",
      "metadata": {
        "colab": {
          "base_uri": "https://localhost:8080/"
        },
        "id": "PFklxCkBzOZ_",
        "outputId": "3bab2cff-1085-4d3c-d62f-e98de98da941"
      },
      "source": [
        "from google.colab import drive\n",
        "drive.mount('/content/drive')"
      ],
      "execution_count": null,
      "outputs": [
        {
          "output_type": "stream",
          "text": [
            "Mounted at /content/drive\n"
          ],
          "name": "stdout"
        }
      ]
    },
    {
      "cell_type": "code",
      "metadata": {
        "id": "ombWwSp5i2Hb"
      },
      "source": [
        ""
      ],
      "execution_count": null,
      "outputs": []
    },
    {
      "cell_type": "code",
      "metadata": {
        "colab": {
          "base_uri": "https://localhost:8080/",
          "height": 419
        },
        "id": "0vgHj_aQznXN",
        "outputId": "0dee56cb-2662-420b-f0d8-76054a53c711"
      },
      "source": [
        "import pandas as pd\n",
        "df = pd.read_csv(\"/content/drive/MyDrive/data-mining-dataset/clothes_size.csv\")\n",
        "df"
      ],
      "execution_count": null,
      "outputs": [
        {
          "output_type": "execute_result",
          "data": {
            "text/html": [
              "<div>\n",
              "<style scoped>\n",
              "    .dataframe tbody tr th:only-of-type {\n",
              "        vertical-align: middle;\n",
              "    }\n",
              "\n",
              "    .dataframe tbody tr th {\n",
              "        vertical-align: top;\n",
              "    }\n",
              "\n",
              "    .dataframe thead th {\n",
              "        text-align: right;\n",
              "    }\n",
              "</style>\n",
              "<table border=\"1\" class=\"dataframe\">\n",
              "  <thead>\n",
              "    <tr style=\"text-align: right;\">\n",
              "      <th></th>\n",
              "      <th>weight</th>\n",
              "      <th>age</th>\n",
              "      <th>height</th>\n",
              "      <th>size</th>\n",
              "    </tr>\n",
              "  </thead>\n",
              "  <tbody>\n",
              "    <tr>\n",
              "      <th>0</th>\n",
              "      <td>62</td>\n",
              "      <td>28.0</td>\n",
              "      <td>172.72</td>\n",
              "      <td>XL</td>\n",
              "    </tr>\n",
              "    <tr>\n",
              "      <th>1</th>\n",
              "      <td>59</td>\n",
              "      <td>36.0</td>\n",
              "      <td>167.64</td>\n",
              "      <td>L</td>\n",
              "    </tr>\n",
              "    <tr>\n",
              "      <th>2</th>\n",
              "      <td>61</td>\n",
              "      <td>34.0</td>\n",
              "      <td>165.10</td>\n",
              "      <td>M</td>\n",
              "    </tr>\n",
              "    <tr>\n",
              "      <th>3</th>\n",
              "      <td>65</td>\n",
              "      <td>27.0</td>\n",
              "      <td>175.26</td>\n",
              "      <td>L</td>\n",
              "    </tr>\n",
              "    <tr>\n",
              "      <th>4</th>\n",
              "      <td>62</td>\n",
              "      <td>45.0</td>\n",
              "      <td>172.72</td>\n",
              "      <td>M</td>\n",
              "    </tr>\n",
              "    <tr>\n",
              "      <th>...</th>\n",
              "      <td>...</td>\n",
              "      <td>...</td>\n",
              "      <td>...</td>\n",
              "      <td>...</td>\n",
              "    </tr>\n",
              "    <tr>\n",
              "      <th>119729</th>\n",
              "      <td>63</td>\n",
              "      <td>42.0</td>\n",
              "      <td>175.26</td>\n",
              "      <td>M</td>\n",
              "    </tr>\n",
              "    <tr>\n",
              "      <th>119730</th>\n",
              "      <td>45</td>\n",
              "      <td>29.0</td>\n",
              "      <td>154.94</td>\n",
              "      <td>S</td>\n",
              "    </tr>\n",
              "    <tr>\n",
              "      <th>119731</th>\n",
              "      <td>61</td>\n",
              "      <td>31.0</td>\n",
              "      <td>172.72</td>\n",
              "      <td>M</td>\n",
              "    </tr>\n",
              "    <tr>\n",
              "      <th>119732</th>\n",
              "      <td>74</td>\n",
              "      <td>31.0</td>\n",
              "      <td>167.64</td>\n",
              "      <td>XL</td>\n",
              "    </tr>\n",
              "    <tr>\n",
              "      <th>119733</th>\n",
              "      <td>70</td>\n",
              "      <td>30.0</td>\n",
              "      <td>167.64</td>\n",
              "      <td>XL</td>\n",
              "    </tr>\n",
              "  </tbody>\n",
              "</table>\n",
              "<p>119734 rows × 4 columns</p>\n",
              "</div>"
            ],
            "text/plain": [
              "        weight   age  height size\n",
              "0           62  28.0  172.72   XL\n",
              "1           59  36.0  167.64    L\n",
              "2           61  34.0  165.10    M\n",
              "3           65  27.0  175.26    L\n",
              "4           62  45.0  172.72    M\n",
              "...        ...   ...     ...  ...\n",
              "119729      63  42.0  175.26    M\n",
              "119730      45  29.0  154.94    S\n",
              "119731      61  31.0  172.72    M\n",
              "119732      74  31.0  167.64   XL\n",
              "119733      70  30.0  167.64   XL\n",
              "\n",
              "[119734 rows x 4 columns]"
            ]
          },
          "metadata": {
            "tags": []
          },
          "execution_count": 7
        }
      ]
    },
    {
      "cell_type": "code",
      "metadata": {
        "colab": {
          "base_uri": "https://localhost:8080/"
        },
        "id": "NjLNm3baz2SW",
        "outputId": "57d99130-66c6-4e6b-b076-59d37ace6fba"
      },
      "source": [
        "df.dtypes"
      ],
      "execution_count": null,
      "outputs": [
        {
          "output_type": "execute_result",
          "data": {
            "text/plain": [
              "weight      int64\n",
              "age       float64\n",
              "height    float64\n",
              "size       object\n",
              "dtype: object"
            ]
          },
          "metadata": {
            "tags": []
          },
          "execution_count": 8
        }
      ]
    },
    {
      "cell_type": "code",
      "metadata": {
        "colab": {
          "base_uri": "https://localhost:8080/",
          "height": 297
        },
        "id": "gGPdu1VSz-Q8",
        "outputId": "c296cdde-ee1e-42aa-95f9-73b607d01723"
      },
      "source": [
        "df.describe()"
      ],
      "execution_count": null,
      "outputs": [
        {
          "output_type": "execute_result",
          "data": {
            "text/html": [
              "<div>\n",
              "<style scoped>\n",
              "    .dataframe tbody tr th:only-of-type {\n",
              "        vertical-align: middle;\n",
              "    }\n",
              "\n",
              "    .dataframe tbody tr th {\n",
              "        vertical-align: top;\n",
              "    }\n",
              "\n",
              "    .dataframe thead th {\n",
              "        text-align: right;\n",
              "    }\n",
              "</style>\n",
              "<table border=\"1\" class=\"dataframe\">\n",
              "  <thead>\n",
              "    <tr style=\"text-align: right;\">\n",
              "      <th></th>\n",
              "      <th>weight</th>\n",
              "      <th>age</th>\n",
              "      <th>height</th>\n",
              "    </tr>\n",
              "  </thead>\n",
              "  <tbody>\n",
              "    <tr>\n",
              "      <th>count</th>\n",
              "      <td>119734.000000</td>\n",
              "      <td>119477.000000</td>\n",
              "      <td>119404.000000</td>\n",
              "    </tr>\n",
              "    <tr>\n",
              "      <th>mean</th>\n",
              "      <td>61.756811</td>\n",
              "      <td>34.027311</td>\n",
              "      <td>165.805794</td>\n",
              "    </tr>\n",
              "    <tr>\n",
              "      <th>std</th>\n",
              "      <td>9.944863</td>\n",
              "      <td>8.149447</td>\n",
              "      <td>6.737651</td>\n",
              "    </tr>\n",
              "    <tr>\n",
              "      <th>min</th>\n",
              "      <td>22.000000</td>\n",
              "      <td>0.000000</td>\n",
              "      <td>137.160000</td>\n",
              "    </tr>\n",
              "    <tr>\n",
              "      <th>25%</th>\n",
              "      <td>55.000000</td>\n",
              "      <td>29.000000</td>\n",
              "      <td>160.020000</td>\n",
              "    </tr>\n",
              "    <tr>\n",
              "      <th>50%</th>\n",
              "      <td>61.000000</td>\n",
              "      <td>32.000000</td>\n",
              "      <td>165.100000</td>\n",
              "    </tr>\n",
              "    <tr>\n",
              "      <th>75%</th>\n",
              "      <td>67.000000</td>\n",
              "      <td>37.000000</td>\n",
              "      <td>170.180000</td>\n",
              "    </tr>\n",
              "    <tr>\n",
              "      <th>max</th>\n",
              "      <td>136.000000</td>\n",
              "      <td>117.000000</td>\n",
              "      <td>193.040000</td>\n",
              "    </tr>\n",
              "  </tbody>\n",
              "</table>\n",
              "</div>"
            ],
            "text/plain": [
              "              weight            age         height\n",
              "count  119734.000000  119477.000000  119404.000000\n",
              "mean       61.756811      34.027311     165.805794\n",
              "std         9.944863       8.149447       6.737651\n",
              "min        22.000000       0.000000     137.160000\n",
              "25%        55.000000      29.000000     160.020000\n",
              "50%        61.000000      32.000000     165.100000\n",
              "75%        67.000000      37.000000     170.180000\n",
              "max       136.000000     117.000000     193.040000"
            ]
          },
          "metadata": {
            "tags": []
          },
          "execution_count": 9
        }
      ]
    },
    {
      "cell_type": "code",
      "metadata": {
        "colab": {
          "base_uri": "https://localhost:8080/"
        },
        "id": "cp0-ooGN0MBp",
        "outputId": "b1b0b458-91c8-495c-9061-c306309a1ea9"
      },
      "source": [
        "df.isnull().sum()"
      ],
      "execution_count": null,
      "outputs": [
        {
          "output_type": "execute_result",
          "data": {
            "text/plain": [
              "weight      0\n",
              "age       257\n",
              "height    330\n",
              "size        0\n",
              "dtype: int64"
            ]
          },
          "metadata": {
            "tags": []
          },
          "execution_count": 10
        }
      ]
    },
    {
      "cell_type": "code",
      "metadata": {
        "id": "JGftqrou0pNa"
      },
      "source": [
        "df = df.dropna()"
      ],
      "execution_count": null,
      "outputs": []
    },
    {
      "cell_type": "code",
      "metadata": {
        "colab": {
          "base_uri": "https://localhost:8080/"
        },
        "id": "-Ck11S4Z0uSc",
        "outputId": "1e9a3c37-74c0-4a03-9a9c-ec5735b124c7"
      },
      "source": [
        "df.isnull().sum()"
      ],
      "execution_count": null,
      "outputs": [
        {
          "output_type": "execute_result",
          "data": {
            "text/plain": [
              "weight    0\n",
              "age       0\n",
              "height    0\n",
              "size      0\n",
              "dtype: int64"
            ]
          },
          "metadata": {
            "tags": []
          },
          "execution_count": 12
        }
      ]
    },
    {
      "cell_type": "code",
      "metadata": {
        "colab": {
          "base_uri": "https://localhost:8080/"
        },
        "id": "nFBirxY10-oJ",
        "outputId": "f1c5930a-3c48-42ca-a3d3-98db475d9f7c"
      },
      "source": [
        "df.weight.mean()"
      ],
      "execution_count": null,
      "outputs": [
        {
          "output_type": "execute_result",
          "data": {
            "text/plain": [
              "61.756095104613394"
            ]
          },
          "metadata": {
            "tags": []
          },
          "execution_count": 13
        }
      ]
    },
    {
      "cell_type": "code",
      "metadata": {
        "colab": {
          "base_uri": "https://localhost:8080/"
        },
        "id": "lJeicVFJ1IKP",
        "outputId": "a32f9e39-bc00-4bd0-92f2-01aff94ac9d4"
      },
      "source": [
        "df.weight.median()"
      ],
      "execution_count": null,
      "outputs": [
        {
          "output_type": "execute_result",
          "data": {
            "text/plain": [
              "61.0"
            ]
          },
          "metadata": {
            "tags": []
          },
          "execution_count": 14
        }
      ]
    },
    {
      "cell_type": "code",
      "metadata": {
        "colab": {
          "base_uri": "https://localhost:8080/"
        },
        "id": "lJZOmvPL1MZK",
        "outputId": "ce181f16-5b98-4741-9bf6-08e849dab54f"
      },
      "source": [
        "df.weight.mode()"
      ],
      "execution_count": null,
      "outputs": [
        {
          "output_type": "execute_result",
          "data": {
            "text/plain": [
              "0    58\n",
              "dtype: int64"
            ]
          },
          "metadata": {
            "tags": []
          },
          "execution_count": 15
        }
      ]
    },
    {
      "cell_type": "code",
      "metadata": {
        "colab": {
          "base_uri": "https://localhost:8080/"
        },
        "id": "MFufqrYJ1ozB",
        "outputId": "236ab75d-e83a-4ea1-fec2-51ab03fc4577"
      },
      "source": [
        "df.height.mean()"
      ],
      "execution_count": null,
      "outputs": [
        {
          "output_type": "execute_result",
          "data": {
            "text/plain": [
              "165.8070678875258"
            ]
          },
          "metadata": {
            "tags": []
          },
          "execution_count": 16
        }
      ]
    },
    {
      "cell_type": "code",
      "metadata": {
        "colab": {
          "base_uri": "https://localhost:8080/"
        },
        "id": "FgeHPc4B1sVG",
        "outputId": "e78051b8-8772-4ebf-a3e6-fb09d496b2a4"
      },
      "source": [
        "df.height.median()"
      ],
      "execution_count": null,
      "outputs": [
        {
          "output_type": "execute_result",
          "data": {
            "text/plain": [
              "165.1"
            ]
          },
          "metadata": {
            "tags": []
          },
          "execution_count": 17
        }
      ]
    },
    {
      "cell_type": "code",
      "metadata": {
        "colab": {
          "base_uri": "https://localhost:8080/"
        },
        "id": "GxbHhYcm1wBu",
        "outputId": "e6a555c6-3046-47ea-dfcc-2bfffdc2ea84"
      },
      "source": [
        "df.height.mode()"
      ],
      "execution_count": null,
      "outputs": [
        {
          "output_type": "execute_result",
          "data": {
            "text/plain": [
              "0    162.56\n",
              "dtype: float64"
            ]
          },
          "metadata": {
            "tags": []
          },
          "execution_count": 18
        }
      ]
    },
    {
      "cell_type": "code",
      "metadata": {
        "id": "yD2rHgw-43n0"
      },
      "source": [
        "from sklearn.preprocessing import LabelEncoder"
      ],
      "execution_count": null,
      "outputs": []
    },
    {
      "cell_type": "code",
      "metadata": {
        "colab": {
          "base_uri": "https://localhost:8080/",
          "height": 521
        },
        "id": "pMH0JM7h4-tA",
        "outputId": "fb01c141-6587-40e8-d6b0-9bdfd11085c6"
      },
      "source": [
        "lable_encoder = LabelEncoder()\n",
        "df[\"new_size\"] = lable_encoder.fit_transform(df[\"size\"])\n",
        "df"
      ],
      "execution_count": null,
      "outputs": [
        {
          "output_type": "stream",
          "text": [
            "/usr/local/lib/python3.7/dist-packages/ipykernel_launcher.py:2: SettingWithCopyWarning: \n",
            "A value is trying to be set on a copy of a slice from a DataFrame.\n",
            "Try using .loc[row_indexer,col_indexer] = value instead\n",
            "\n",
            "See the caveats in the documentation: https://pandas.pydata.org/pandas-docs/stable/user_guide/indexing.html#returning-a-view-versus-a-copy\n",
            "  \n"
          ],
          "name": "stderr"
        },
        {
          "output_type": "execute_result",
          "data": {
            "text/html": [
              "<div>\n",
              "<style scoped>\n",
              "    .dataframe tbody tr th:only-of-type {\n",
              "        vertical-align: middle;\n",
              "    }\n",
              "\n",
              "    .dataframe tbody tr th {\n",
              "        vertical-align: top;\n",
              "    }\n",
              "\n",
              "    .dataframe thead th {\n",
              "        text-align: right;\n",
              "    }\n",
              "</style>\n",
              "<table border=\"1\" class=\"dataframe\">\n",
              "  <thead>\n",
              "    <tr style=\"text-align: right;\">\n",
              "      <th></th>\n",
              "      <th>weight</th>\n",
              "      <th>age</th>\n",
              "      <th>height</th>\n",
              "      <th>size</th>\n",
              "      <th>new_size</th>\n",
              "    </tr>\n",
              "  </thead>\n",
              "  <tbody>\n",
              "    <tr>\n",
              "      <th>0</th>\n",
              "      <td>62</td>\n",
              "      <td>28.0</td>\n",
              "      <td>172.72</td>\n",
              "      <td>XL</td>\n",
              "      <td>3</td>\n",
              "    </tr>\n",
              "    <tr>\n",
              "      <th>1</th>\n",
              "      <td>59</td>\n",
              "      <td>36.0</td>\n",
              "      <td>167.64</td>\n",
              "      <td>L</td>\n",
              "      <td>0</td>\n",
              "    </tr>\n",
              "    <tr>\n",
              "      <th>2</th>\n",
              "      <td>61</td>\n",
              "      <td>34.0</td>\n",
              "      <td>165.10</td>\n",
              "      <td>M</td>\n",
              "      <td>1</td>\n",
              "    </tr>\n",
              "    <tr>\n",
              "      <th>3</th>\n",
              "      <td>65</td>\n",
              "      <td>27.0</td>\n",
              "      <td>175.26</td>\n",
              "      <td>L</td>\n",
              "      <td>0</td>\n",
              "    </tr>\n",
              "    <tr>\n",
              "      <th>4</th>\n",
              "      <td>62</td>\n",
              "      <td>45.0</td>\n",
              "      <td>172.72</td>\n",
              "      <td>M</td>\n",
              "      <td>1</td>\n",
              "    </tr>\n",
              "    <tr>\n",
              "      <th>...</th>\n",
              "      <td>...</td>\n",
              "      <td>...</td>\n",
              "      <td>...</td>\n",
              "      <td>...</td>\n",
              "      <td>...</td>\n",
              "    </tr>\n",
              "    <tr>\n",
              "      <th>119729</th>\n",
              "      <td>63</td>\n",
              "      <td>42.0</td>\n",
              "      <td>175.26</td>\n",
              "      <td>M</td>\n",
              "      <td>1</td>\n",
              "    </tr>\n",
              "    <tr>\n",
              "      <th>119730</th>\n",
              "      <td>45</td>\n",
              "      <td>29.0</td>\n",
              "      <td>154.94</td>\n",
              "      <td>S</td>\n",
              "      <td>2</td>\n",
              "    </tr>\n",
              "    <tr>\n",
              "      <th>119731</th>\n",
              "      <td>61</td>\n",
              "      <td>31.0</td>\n",
              "      <td>172.72</td>\n",
              "      <td>M</td>\n",
              "      <td>1</td>\n",
              "    </tr>\n",
              "    <tr>\n",
              "      <th>119732</th>\n",
              "      <td>74</td>\n",
              "      <td>31.0</td>\n",
              "      <td>167.64</td>\n",
              "      <td>XL</td>\n",
              "      <td>3</td>\n",
              "    </tr>\n",
              "    <tr>\n",
              "      <th>119733</th>\n",
              "      <td>70</td>\n",
              "      <td>30.0</td>\n",
              "      <td>167.64</td>\n",
              "      <td>XL</td>\n",
              "      <td>3</td>\n",
              "    </tr>\n",
              "  </tbody>\n",
              "</table>\n",
              "<p>119153 rows × 5 columns</p>\n",
              "</div>"
            ],
            "text/plain": [
              "        weight   age  height size  new_size\n",
              "0           62  28.0  172.72   XL         3\n",
              "1           59  36.0  167.64    L         0\n",
              "2           61  34.0  165.10    M         1\n",
              "3           65  27.0  175.26    L         0\n",
              "4           62  45.0  172.72    M         1\n",
              "...        ...   ...     ...  ...       ...\n",
              "119729      63  42.0  175.26    M         1\n",
              "119730      45  29.0  154.94    S         2\n",
              "119731      61  31.0  172.72    M         1\n",
              "119732      74  31.0  167.64   XL         3\n",
              "119733      70  30.0  167.64   XL         3\n",
              "\n",
              "[119153 rows x 5 columns]"
            ]
          },
          "metadata": {
            "tags": []
          },
          "execution_count": 20
        }
      ]
    },
    {
      "cell_type": "code",
      "metadata": {
        "id": "0ctW_o16xMAZ"
      },
      "source": [
        "import pandas as pd \n",
        "from matplotlib import pyplot as plt"
      ],
      "execution_count": null,
      "outputs": []
    },
    {
      "cell_type": "code",
      "metadata": {
        "colab": {
          "base_uri": "https://localhost:8080/",
          "height": 312
        },
        "id": "uO6hN7UXwFD7",
        "outputId": "b48163d0-b511-4e39-8311-1c9c5adbde00"
      },
      "source": [
        "fig, ax = plt.subplots()\n",
        "data = df['size'].value_counts()\n",
        "\n",
        "name =data.index\n",
        "count = data.values\n",
        "plt.title('scores')\n",
        "plt.xlabel('Names')\n",
        "plt.ylabel('Total count')\n",
        "ax.bar(name,count)"
      ],
      "execution_count": null,
      "outputs": [
        {
          "output_type": "execute_result",
          "data": {
            "text/plain": [
              "<BarContainer object of 7 artists>"
            ]
          },
          "metadata": {
            "tags": []
          },
          "execution_count": 22
        },
        {
          "output_type": "display_data",
          "data": {
            "image/png": "[encoded data removed]",
            "text/plain": [
              "<Figure size 432x288 with 1 Axes>"
            ]
          },
          "metadata": {
            "tags": [],
            "needs_background": "light"
          }
        }
      ]
    },
    {
      "cell_type": "code",
      "metadata": {
        "colab": {
          "base_uri": "https://localhost:8080/",
          "height": 264
        },
        "id": "f0l6-fWuxt3i",
        "outputId": "68755117-d5df-4111-cde4-2264b4c23957"
      },
      "source": [
        "slices = df['size'].value_counts()\n",
        "activity = data.index\n",
        "cols = ['g','r','b','y','pink','gray','purple']\n",
        "plt.pie(slices,\n",
        "        labels= activity,\n",
        "        colors= cols,\n",
        "        startangle =90,\n",
        "        shadow = False,\n",
        "       \n",
        "        autopct = \"%1.0f%%\")\n",
        "plt.title ('Pie chart')\n",
        "plt.show()"
      ],
      "execution_count": null,
      "outputs": [
        {
          "output_type": "display_data",
          "data": {
            "image/png": "[encoded data removed]",
            "text/plain": [
              "<Figure size 432x288 with 1 Axes>"
            ]
          },
          "metadata": {
            "tags": []
          }
        }
      ]
    },
    {
      "cell_type": "code",
      "metadata": {
        "id": "pFMqN26f34ux"
      },
      "source": [
        "from sklearn.model_selection import train_test_split\n",
        "from sklearn.preprocessing import LabelEncoder\n",
        "from sklearn.linear_model import LinearRegression, LogisticRegression"
      ],
      "execution_count": null,
      "outputs": []
    },
    {
      "cell_type": "code",
      "metadata": {
        "colab": {
          "base_uri": "https://localhost:8080/",
          "height": 419
        },
        "id": "O61cu20P6VsG",
        "outputId": "7e21a5e9-a4ca-41f4-8628-f71b9e3ea20f"
      },
      "source": [
        "df"
      ],
      "execution_count": null,
      "outputs": [
        {
          "output_type": "execute_result",
          "data": {
            "text/html": [
              "<div>\n",
              "<style scoped>\n",
              "    .dataframe tbody tr th:only-of-type {\n",
              "        vertical-align: middle;\n",
              "    }\n",
              "\n",
              "    .dataframe tbody tr th {\n",
              "        vertical-align: top;\n",
              "    }\n",
              "\n",
              "    .dataframe thead th {\n",
              "        text-align: right;\n",
              "    }\n",
              "</style>\n",
              "<table border=\"1\" class=\"dataframe\">\n",
              "  <thead>\n",
              "    <tr style=\"text-align: right;\">\n",
              "      <th></th>\n",
              "      <th>weight</th>\n",
              "      <th>age</th>\n",
              "      <th>height</th>\n",
              "      <th>size</th>\n",
              "      <th>new_size</th>\n",
              "    </tr>\n",
              "  </thead>\n",
              "  <tbody>\n",
              "    <tr>\n",
              "      <th>0</th>\n",
              "      <td>62</td>\n",
              "      <td>28.0</td>\n",
              "      <td>172.72</td>\n",
              "      <td>XL</td>\n",
              "      <td>3</td>\n",
              "    </tr>\n",
              "    <tr>\n",
              "      <th>1</th>\n",
              "      <td>59</td>\n",
              "      <td>36.0</td>\n",
              "      <td>167.64</td>\n",
              "      <td>L</td>\n",
              "      <td>0</td>\n",
              "    </tr>\n",
              "    <tr>\n",
              "      <th>2</th>\n",
              "      <td>61</td>\n",
              "      <td>34.0</td>\n",
              "      <td>165.10</td>\n",
              "      <td>M</td>\n",
              "      <td>1</td>\n",
              "    </tr>\n",
              "    <tr>\n",
              "      <th>3</th>\n",
              "      <td>65</td>\n",
              "      <td>27.0</td>\n",
              "      <td>175.26</td>\n",
              "      <td>L</td>\n",
              "      <td>0</td>\n",
              "    </tr>\n",
              "    <tr>\n",
              "      <th>4</th>\n",
              "      <td>62</td>\n",
              "      <td>45.0</td>\n",
              "      <td>172.72</td>\n",
              "      <td>M</td>\n",
              "      <td>1</td>\n",
              "    </tr>\n",
              "    <tr>\n",
              "      <th>...</th>\n",
              "      <td>...</td>\n",
              "      <td>...</td>\n",
              "      <td>...</td>\n",
              "      <td>...</td>\n",
              "      <td>...</td>\n",
              "    </tr>\n",
              "    <tr>\n",
              "      <th>119729</th>\n",
              "      <td>63</td>\n",
              "      <td>42.0</td>\n",
              "      <td>175.26</td>\n",
              "      <td>M</td>\n",
              "      <td>1</td>\n",
              "    </tr>\n",
              "    <tr>\n",
              "      <th>119730</th>\n",
              "      <td>45</td>\n",
              "      <td>29.0</td>\n",
              "      <td>154.94</td>\n",
              "      <td>S</td>\n",
              "      <td>2</td>\n",
              "    </tr>\n",
              "    <tr>\n",
              "      <th>119731</th>\n",
              "      <td>61</td>\n",
              "      <td>31.0</td>\n",
              "      <td>172.72</td>\n",
              "      <td>M</td>\n",
              "      <td>1</td>\n",
              "    </tr>\n",
              "    <tr>\n",
              "      <th>119732</th>\n",
              "      <td>74</td>\n",
              "      <td>31.0</td>\n",
              "      <td>167.64</td>\n",
              "      <td>XL</td>\n",
              "      <td>3</td>\n",
              "    </tr>\n",
              "    <tr>\n",
              "      <th>119733</th>\n",
              "      <td>70</td>\n",
              "      <td>30.0</td>\n",
              "      <td>167.64</td>\n",
              "      <td>XL</td>\n",
              "      <td>3</td>\n",
              "    </tr>\n",
              "  </tbody>\n",
              "</table>\n",
              "<p>119153 rows × 5 columns</p>\n",
              "</div>"
            ],
            "text/plain": [
              "        weight   age  height size  new_size\n",
              "0           62  28.0  172.72   XL         3\n",
              "1           59  36.0  167.64    L         0\n",
              "2           61  34.0  165.10    M         1\n",
              "3           65  27.0  175.26    L         0\n",
              "4           62  45.0  172.72    M         1\n",
              "...        ...   ...     ...  ...       ...\n",
              "119729      63  42.0  175.26    M         1\n",
              "119730      45  29.0  154.94    S         2\n",
              "119731      61  31.0  172.72    M         1\n",
              "119732      74  31.0  167.64   XL         3\n",
              "119733      70  30.0  167.64   XL         3\n",
              "\n",
              "[119153 rows x 5 columns]"
            ]
          },
          "metadata": {
            "tags": []
          },
          "execution_count": 25
        }
      ]
    },
    {
      "cell_type": "code",
      "metadata": {
        "id": "YdkRHSKo8LoP"
      },
      "source": [
        "df = df.dropna()"
      ],
      "execution_count": null,
      "outputs": []
    },
    {
      "cell_type": "code",
      "metadata": {
        "colab": {
          "base_uri": "https://localhost:8080/",
          "height": 419
        },
        "id": "s0l-W_uT4Kr4",
        "outputId": "a2fa2c74-bece-4b47-d9f1-0767a75e7d37"
      },
      "source": [
        "x= df.drop(['size','age','new_size'],axis=1)\n",
        "\n",
        "x"
      ],
      "execution_count": null,
      "outputs": [
        {
          "output_type": "execute_result",
          "data": {
            "text/html": [
              "<div>\n",
              "<style scoped>\n",
              "    .dataframe tbody tr th:only-of-type {\n",
              "        vertical-align: middle;\n",
              "    }\n",
              "\n",
              "    .dataframe tbody tr th {\n",
              "        vertical-align: top;\n",
              "    }\n",
              "\n",
              "    .dataframe thead th {\n",
              "        text-align: right;\n",
              "    }\n",
              "</style>\n",
              "<table border=\"1\" class=\"dataframe\">\n",
              "  <thead>\n",
              "    <tr style=\"text-align: right;\">\n",
              "      <th></th>\n",
              "      <th>weight</th>\n",
              "      <th>height</th>\n",
              "    </tr>\n",
              "  </thead>\n",
              "  <tbody>\n",
              "    <tr>\n",
              "      <th>0</th>\n",
              "      <td>62</td>\n",
              "      <td>172.72</td>\n",
              "    </tr>\n",
              "    <tr>\n",
              "      <th>1</th>\n",
              "      <td>59</td>\n",
              "      <td>167.64</td>\n",
              "    </tr>\n",
              "    <tr>\n",
              "      <th>2</th>\n",
              "      <td>61</td>\n",
              "      <td>165.10</td>\n",
              "    </tr>\n",
              "    <tr>\n",
              "      <th>3</th>\n",
              "      <td>65</td>\n",
              "      <td>175.26</td>\n",
              "    </tr>\n",
              "    <tr>\n",
              "      <th>4</th>\n",
              "      <td>62</td>\n",
              "      <td>172.72</td>\n",
              "    </tr>\n",
              "    <tr>\n",
              "      <th>...</th>\n",
              "      <td>...</td>\n",
              "      <td>...</td>\n",
              "    </tr>\n",
              "    <tr>\n",
              "      <th>119729</th>\n",
              "      <td>63</td>\n",
              "      <td>175.26</td>\n",
              "    </tr>\n",
              "    <tr>\n",
              "      <th>119730</th>\n",
              "      <td>45</td>\n",
              "      <td>154.94</td>\n",
              "    </tr>\n",
              "    <tr>\n",
              "      <th>119731</th>\n",
              "      <td>61</td>\n",
              "      <td>172.72</td>\n",
              "    </tr>\n",
              "    <tr>\n",
              "      <th>119732</th>\n",
              "      <td>74</td>\n",
              "      <td>167.64</td>\n",
              "    </tr>\n",
              "    <tr>\n",
              "      <th>119733</th>\n",
              "      <td>70</td>\n",
              "      <td>167.64</td>\n",
              "    </tr>\n",
              "  </tbody>\n",
              "</table>\n",
              "<p>119153 rows × 2 columns</p>\n",
              "</div>"
            ],
            "text/plain": [
              "        weight  height\n",
              "0           62  172.72\n",
              "1           59  167.64\n",
              "2           61  165.10\n",
              "3           65  175.26\n",
              "4           62  172.72\n",
              "...        ...     ...\n",
              "119729      63  175.26\n",
              "119730      45  154.94\n",
              "119731      61  172.72\n",
              "119732      74  167.64\n",
              "119733      70  167.64\n",
              "\n",
              "[119153 rows x 2 columns]"
            ]
          },
          "metadata": {
            "tags": []
          },
          "execution_count": 27
        }
      ]
    },
    {
      "cell_type": "code",
      "metadata": {
        "colab": {
          "base_uri": "https://localhost:8080/"
        },
        "id": "e1cfQjPM5RpZ",
        "outputId": "be068025-c0ed-4f51-b81f-0bca96b98d4b"
      },
      "source": [
        "y = df['size']\n",
        "y"
      ],
      "execution_count": null,
      "outputs": [
        {
          "output_type": "execute_result",
          "data": {
            "text/plain": [
              "0         XL\n",
              "1          L\n",
              "2          M\n",
              "3          L\n",
              "4          M\n",
              "          ..\n",
              "119729     M\n",
              "119730     S\n",
              "119731     M\n",
              "119732    XL\n",
              "119733    XL\n",
              "Name: size, Length: 119153, dtype: object"
            ]
          },
          "metadata": {
            "tags": []
          },
          "execution_count": 28
        }
      ]
    },
    {
      "cell_type": "code",
      "metadata": {
        "id": "G5Bqgcm939Di"
      },
      "source": [
        "x_train,x_test,y_train,y_test = train_test_split(x,y,test_size = 0.2)"
      ],
      "execution_count": null,
      "outputs": []
    },
    {
      "cell_type": "code",
      "metadata": {
        "id": "Ok1ubQUu5f2F"
      },
      "source": [
        "l = LabelEncoder()\n",
        "y_train = l.fit_transform(y_train)\n",
        "y_test = l.fit_transform(y_test)\n"
      ],
      "execution_count": null,
      "outputs": []
    },
    {
      "cell_type": "code",
      "metadata": {
        "colab": {
          "base_uri": "https://localhost:8080/"
        },
        "id": "oo1ILY8s5lx8",
        "outputId": "f6b72b12-20bc-4888-c63c-036f94864c2b"
      },
      "source": [
        "y_train"
      ],
      "execution_count": null,
      "outputs": [
        {
          "output_type": "execute_result",
          "data": {
            "text/plain": [
              "array([3, 1, 2, ..., 5, 6, 2])"
            ]
          },
          "metadata": {
            "tags": []
          },
          "execution_count": 31
        }
      ]
    },
    {
      "cell_type": "code",
      "metadata": {
        "colab": {
          "base_uri": "https://localhost:8080/"
        },
        "id": "0gHP6ryI5pJO",
        "outputId": "78292f04-b66e-47e1-ab0b-1b597db7c209"
      },
      "source": [
        "y_test"
      ],
      "execution_count": null,
      "outputs": [
        {
          "output_type": "execute_result",
          "data": {
            "text/plain": [
              "array([1, 0, 6, ..., 3, 1, 5])"
            ]
          },
          "metadata": {
            "tags": []
          },
          "execution_count": 32
        }
      ]
    },
    {
      "cell_type": "code",
      "metadata": {
        "colab": {
          "base_uri": "https://localhost:8080/"
        },
        "id": "j6M72mCp5z9L",
        "outputId": "d427f0e2-f6a2-4e35-f7b8-790bbbad3818"
      },
      "source": [
        "linReg = LinearRegression()\n",
        "linReg.fit(x_train,y_train)\n",
        "linReg.score(x_train,y_train)"
      ],
      "execution_count": null,
      "outputs": [
        {
          "output_type": "execute_result",
          "data": {
            "text/plain": [
              "0.2023419540177888"
            ]
          },
          "metadata": {
            "tags": []
          },
          "execution_count": 33
        }
      ]
    },
    {
      "cell_type": "code",
      "metadata": {
        "colab": {
          "base_uri": "https://localhost:8080/"
        },
        "id": "Edw2kRn38Zw7",
        "outputId": "0f9a337c-6267-4d60-b8f7-939681b17df4"
      },
      "source": [
        "lin_acc = linReg.score(x_test,y_test)\n",
        "lin_acc"
      ],
      "execution_count": null,
      "outputs": [
        {
          "output_type": "execute_result",
          "data": {
            "text/plain": [
              "0.19518061937965037"
            ]
          },
          "metadata": {
            "tags": []
          },
          "execution_count": 34
        }
      ]
    },
    {
      "cell_type": "code",
      "metadata": {
        "colab": {
          "base_uri": "https://localhost:8080/"
        },
        "id": "Ww2JeF8I883L",
        "outputId": "7f56c52e-df7c-481a-f86a-26a236f604f3"
      },
      "source": [
        "logReg = LogisticRegression()\n",
        "logReg.fit(x_train,y_train)\n",
        "logReg.score(x_train,y_train)"
      ],
      "execution_count": null,
      "outputs": [
        {
          "output_type": "stream",
          "text": [
            "/usr/local/lib/python3.7/dist-packages/sklearn/linear_model/_logistic.py:940: ConvergenceWarning: lbfgs failed to converge (status=1):\n",
            "STOP: TOTAL NO. of ITERATIONS REACHED LIMIT.\n",
            "\n",
            "Increase the number of iterations (max_iter) or scale the data as shown in:\n",
            "    https://scikit-learn.org/stable/modules/preprocessing.html\n",
            "Please also refer to the documentation for alternative solver options:\n",
            "    https://scikit-learn.org/stable/modules/linear_model.html#logistic-regression\n",
            "  extra_warning_msg=_LOGISTIC_SOLVER_CONVERGENCE_MSG)\n"
          ],
          "name": "stderr"
        },
        {
          "output_type": "execute_result",
          "data": {
            "text/plain": [
              "0.4894567885692705"
            ]
          },
          "metadata": {
            "tags": []
          },
          "execution_count": 35
        }
      ]
    },
    {
      "cell_type": "code",
      "metadata": {
        "colab": {
          "base_uri": "https://localhost:8080/"
        },
        "id": "SLPJMnKX9Jbw",
        "outputId": "156e2915-a934-48a6-f6d7-c86aaaa22fc7"
      },
      "source": [
        "log_acc = logReg.score(x_test,y_test)\n",
        "log_acc"
      ],
      "execution_count": null,
      "outputs": [
        {
          "output_type": "execute_result",
          "data": {
            "text/plain": [
              "0.4858797364776971"
            ]
          },
          "metadata": {
            "tags": []
          },
          "execution_count": 36
        }
      ]
    },
    {
      "cell_type": "code",
      "metadata": {
        "id": "M_-SGg0q_x-9"
      },
      "source": [
        "from sklearn import preprocessing\n",
        "min_max_scaler = preprocessing.MinMaxScaler()\n",
        "new_x= min_max_scaler.fit_transform(x)"
      ],
      "execution_count": null,
      "outputs": []
    },
    {
      "cell_type": "code",
      "metadata": {
        "colab": {
          "base_uri": "https://localhost:8080/"
        },
        "id": "L5E3JHpQ_1m8",
        "outputId": "90b4b5e7-b872-4df2-974b-b98c1db47d73"
      },
      "source": [
        "new_x"
      ],
      "execution_count": null,
      "outputs": [
        {
          "output_type": "execute_result",
          "data": {
            "text/plain": [
              "array([[0.35087719, 0.63636364],\n",
              "       [0.3245614 , 0.54545455],\n",
              "       [0.34210526, 0.5       ],\n",
              "       ...,\n",
              "       [0.34210526, 0.63636364],\n",
              "       [0.45614035, 0.54545455],\n",
              "       [0.42105263, 0.54545455]])"
            ]
          },
          "metadata": {
            "tags": []
          },
          "execution_count": 38
        }
      ]
    },
    {
      "cell_type": "code",
      "metadata": {
        "id": "PatxGb3P_4sL"
      },
      "source": [
        "x_train,x_test,y_train,y_test = train_test_split(new_x,y,test_size = 0.2)"
      ],
      "execution_count": null,
      "outputs": []
    },
    {
      "cell_type": "code",
      "metadata": {
        "id": "-KUMsAimA2P2"
      },
      "source": [
        "l = LabelEncoder()\n",
        "y_train = l.fit_transform(y_train)\n",
        "y_test = l.fit_transform(y_test)"
      ],
      "execution_count": null,
      "outputs": []
    },
    {
      "cell_type": "code",
      "metadata": {
        "colab": {
          "base_uri": "https://localhost:8080/"
        },
        "id": "N3QceBzDBcA3",
        "outputId": "c76d12c0-62d5-452a-fdbf-88517f7cb362"
      },
      "source": [
        "linReg = LinearRegression()\n",
        "linReg.fit(x_train,y_train)\n",
        "linReg.score(x_test,y_test)"
      ],
      "execution_count": null,
      "outputs": [
        {
          "output_type": "execute_result",
          "data": {
            "text/plain": [
              "0.19537872338256213"
            ]
          },
          "metadata": {
            "tags": []
          },
          "execution_count": 41
        }
      ]
    },
    {
      "cell_type": "code",
      "metadata": {
        "colab": {
          "base_uri": "https://localhost:8080/"
        },
        "id": "IW05jgqEAHBJ",
        "outputId": "2cf56ed1-683a-4c3f-952d-7a4a0e064fa6"
      },
      "source": [
        "logReg = LogisticRegression()\n",
        "logReg.fit(x_train,y_train)\n",
        "logReg.score(x_test,y_test)"
      ],
      "execution_count": null,
      "outputs": [
        {
          "output_type": "stream",
          "text": [
            "/usr/local/lib/python3.7/dist-packages/sklearn/linear_model/_logistic.py:940: ConvergenceWarning: lbfgs failed to converge (status=1):\n",
            "STOP: TOTAL NO. of ITERATIONS REACHED LIMIT.\n",
            "\n",
            "Increase the number of iterations (max_iter) or scale the data as shown in:\n",
            "    https://scikit-learn.org/stable/modules/preprocessing.html\n",
            "Please also refer to the documentation for alternative solver options:\n",
            "    https://scikit-learn.org/stable/modules/linear_model.html#logistic-regression\n",
            "  extra_warning_msg=_LOGISTIC_SOLVER_CONVERGENCE_MSG)\n"
          ],
          "name": "stderr"
        },
        {
          "output_type": "execute_result",
          "data": {
            "text/plain": [
              "0.49943351097310223"
            ]
          },
          "metadata": {
            "tags": []
          },
          "execution_count": 42
        }
      ]
    },
    {
      "cell_type": "code",
      "metadata": {
        "id": "dAi68UpL2CBu"
      },
      "source": [
        "from sklearn.neighbors import  KNeighborsClassifier"
      ],
      "execution_count": null,
      "outputs": []
    },
    {
      "cell_type": "code",
      "metadata": {
        "colab": {
          "base_uri": "https://localhost:8080/"
        },
        "id": "SdPlCaCV23PK",
        "outputId": "078521e7-a16e-49de-cb52-f1ce41d031df"
      },
      "source": [
        "knn = KNeighborsClassifier(n_neighbors=1001)\n",
        "knn.fit(x_train,y_train)\n",
        "knn.predict(x_test)"
      ],
      "execution_count": null,
      "outputs": [
        {
          "output_type": "execute_result",
          "data": {
            "text/plain": [
              "array([1, 1, 1, ..., 1, 3, 2])"
            ]
          },
          "metadata": {
            "tags": []
          },
          "execution_count": 44
        }
      ]
    },
    {
      "cell_type": "code",
      "metadata": {
        "colab": {
          "base_uri": "https://localhost:8080/"
        },
        "id": "8em7AYvZ25BI",
        "outputId": "417f00bf-553d-48a2-ad1b-ccc4aa58003b"
      },
      "source": [
        "knn_acc = knn.score(x_test,y_test)\n",
        "knn_acc"
      ],
      "execution_count": null,
      "outputs": [
        {
          "output_type": "execute_result",
          "data": {
            "text/plain": [
              "0.5029163694347698"
            ]
          },
          "metadata": {
            "tags": []
          },
          "execution_count": 45
        }
      ]
    },
    {
      "cell_type": "code",
      "metadata": {
        "id": "vkFmzx8c7iam"
      },
      "source": [
        "from sklearn.naive_bayes import MultinomialNB"
      ],
      "execution_count": null,
      "outputs": []
    },
    {
      "cell_type": "code",
      "metadata": {
        "colab": {
          "base_uri": "https://localhost:8080/"
        },
        "id": "GbgPK9vA7mCg",
        "outputId": "926f7f7a-f4ad-4590-c276-e7c8aa0b42de"
      },
      "source": [
        "mnb = MultinomialNB()\n",
        "mnb.fit(x_train,y_train)\n",
        "mnb.predict(x_test)"
      ],
      "execution_count": null,
      "outputs": [
        {
          "output_type": "execute_result",
          "data": {
            "text/plain": [
              "array([1, 1, 1, ..., 1, 1, 1])"
            ]
          },
          "metadata": {
            "tags": []
          },
          "execution_count": 47
        }
      ]
    },
    {
      "cell_type": "code",
      "metadata": {
        "colab": {
          "base_uri": "https://localhost:8080/"
        },
        "id": "0-5f32rB7sMX",
        "outputId": "81d163e7-fdc8-4527-d2bc-541741448a94"
      },
      "source": [
        "mnb_acc = mnb.score(x_test,y_test)\n",
        "mnb_acc"
      ],
      "execution_count": null,
      "outputs": [
        {
          "output_type": "execute_result",
          "data": {
            "text/plain": [
              "0.24766061012966303"
            ]
          },
          "metadata": {
            "tags": []
          },
          "execution_count": 48
        }
      ]
    },
    {
      "cell_type": "code",
      "metadata": {
        "id": "ekuWdPDb8Gkz"
      },
      "source": [
        "from sklearn.tree import DecisionTreeClassifier\n",
        "from sklearn.ensemble import RandomForestClassifier\n",
        "from sklearn.svm import SVC"
      ],
      "execution_count": null,
      "outputs": []
    },
    {
      "cell_type": "code",
      "metadata": {
        "colab": {
          "base_uri": "https://localhost:8080/"
        },
        "id": "M4dq-DUG8Kss",
        "outputId": "3f5cb791-d4a6-4cc7-a105-75f72ad310d7"
      },
      "source": [
        "dt = DecisionTreeClassifier()\n",
        "dt.fit(x_train,y_train)\n",
        "dt.predict(x_test)"
      ],
      "execution_count": null,
      "outputs": [
        {
          "output_type": "execute_result",
          "data": {
            "text/plain": [
              "array([1, 1, 1, ..., 1, 3, 2])"
            ]
          },
          "metadata": {
            "tags": []
          },
          "execution_count": 50
        }
      ]
    },
    {
      "cell_type": "code",
      "metadata": {
        "colab": {
          "base_uri": "https://localhost:8080/"
        },
        "id": "sLxGzYUv8a9m",
        "outputId": "7aee8643-b2a5-42d7-d0ee-6d1e498799cf"
      },
      "source": [
        "dt_acc = dt.score(x_test,y_test)\n",
        "dt_acc"
      ],
      "execution_count": null,
      "outputs": [
        {
          "output_type": "execute_result",
          "data": {
            "text/plain": [
              "0.5037556124375813"
            ]
          },
          "metadata": {
            "tags": []
          },
          "execution_count": 51
        }
      ]
    },
    {
      "cell_type": "code",
      "metadata": {
        "colab": {
          "base_uri": "https://localhost:8080/"
        },
        "id": "Nq-Rv1aq8fNQ",
        "outputId": "14a0ba35-ae59-4049-954e-4b42a3940a54"
      },
      "source": [
        "rmf = RandomForestClassifier()\n",
        "rmf.fit(x_train,y_train)\n",
        "rmf.predict(x_test)"
      ],
      "execution_count": null,
      "outputs": [
        {
          "output_type": "execute_result",
          "data": {
            "text/plain": [
              "array([1, 1, 1, ..., 1, 3, 2])"
            ]
          },
          "metadata": {
            "tags": []
          },
          "execution_count": 52
        }
      ]
    },
    {
      "cell_type": "code",
      "metadata": {
        "colab": {
          "base_uri": "https://localhost:8080/"
        },
        "id": "DkMbcQ518i_d",
        "outputId": "f7926277-04a6-4c0f-ebcd-a3ccdf3c5e68"
      },
      "source": [
        "rmf_acc = rmf.score(x_test,y_test)\n",
        "rmf_acc"
      ],
      "execution_count": null,
      "outputs": [
        {
          "output_type": "execute_result",
          "data": {
            "text/plain": [
              "0.5040913096387059"
            ]
          },
          "metadata": {
            "tags": []
          },
          "execution_count": 53
        }
      ]
    },
    {
      "cell_type": "code",
      "metadata": {
        "colab": {
          "base_uri": "https://localhost:8080/"
        },
        "id": "REoCiOvsI2zu",
        "outputId": "1e54a9ca-374c-4f53-911a-c0cb61acc776"
      },
      "source": [
        "svc = SVC(random_state=1000)\n",
        "svc.fit(x_train,y_train)\n",
        "svc.predict(x_test)"
      ],
      "execution_count": null,
      "outputs": [
        {
          "output_type": "execute_result",
          "data": {
            "text/plain": [
              "array([1, 1, 1, ..., 1, 3, 2])"
            ]
          },
          "metadata": {
            "tags": []
          },
          "execution_count": 54
        }
      ]
    },
    {
      "cell_type": "code",
      "metadata": {
        "colab": {
          "base_uri": "https://localhost:8080/"
        },
        "id": "UdDf-UqpJOAb",
        "outputId": "31f64ac3-0d98-4146-eaed-aa80dc4c04c8"
      },
      "source": [
        "svc_acc = svc.score(x_test,y_test)\n",
        "svc_acc"
      ],
      "execution_count": null,
      "outputs": [
        {
          "output_type": "execute_result",
          "data": {
            "text/plain": [
              "0.4977969871176199"
            ]
          },
          "metadata": {
            "tags": []
          },
          "execution_count": 55
        }
      ]
    },
    {
      "cell_type": "code",
      "metadata": {
        "id": "7sFb4pIY_Q72"
      },
      "source": [
        "from sklearn.cluster import KMeans"
      ],
      "execution_count": null,
      "outputs": []
    },
    {
      "cell_type": "code",
      "metadata": {
        "colab": {
          "base_uri": "https://localhost:8080/",
          "height": 419
        },
        "id": "R1vb2RtZAbNg",
        "outputId": "7e251df6-e169-4851-bfc9-b8d5c83655c5"
      },
      "source": [
        "df = df[['weight','height']]\n",
        "df"
      ],
      "execution_count": null,
      "outputs": [
        {
          "output_type": "execute_result",
          "data": {
            "text/html": [
              "<div>\n",
              "<style scoped>\n",
              "    .dataframe tbody tr th:only-of-type {\n",
              "        vertical-align: middle;\n",
              "    }\n",
              "\n",
              "    .dataframe tbody tr th {\n",
              "        vertical-align: top;\n",
              "    }\n",
              "\n",
              "    .dataframe thead th {\n",
              "        text-align: right;\n",
              "    }\n",
              "</style>\n",
              "<table border=\"1\" class=\"dataframe\">\n",
              "  <thead>\n",
              "    <tr style=\"text-align: right;\">\n",
              "      <th></th>\n",
              "      <th>weight</th>\n",
              "      <th>height</th>\n",
              "    </tr>\n",
              "  </thead>\n",
              "  <tbody>\n",
              "    <tr>\n",
              "      <th>0</th>\n",
              "      <td>62</td>\n",
              "      <td>172.72</td>\n",
              "    </tr>\n",
              "    <tr>\n",
              "      <th>1</th>\n",
              "      <td>59</td>\n",
              "      <td>167.64</td>\n",
              "    </tr>\n",
              "    <tr>\n",
              "      <th>2</th>\n",
              "      <td>61</td>\n",
              "      <td>165.10</td>\n",
              "    </tr>\n",
              "    <tr>\n",
              "      <th>3</th>\n",
              "      <td>65</td>\n",
              "      <td>175.26</td>\n",
              "    </tr>\n",
              "    <tr>\n",
              "      <th>4</th>\n",
              "      <td>62</td>\n",
              "      <td>172.72</td>\n",
              "    </tr>\n",
              "    <tr>\n",
              "      <th>...</th>\n",
              "      <td>...</td>\n",
              "      <td>...</td>\n",
              "    </tr>\n",
              "    <tr>\n",
              "      <th>119729</th>\n",
              "      <td>63</td>\n",
              "      <td>175.26</td>\n",
              "    </tr>\n",
              "    <tr>\n",
              "      <th>119730</th>\n",
              "      <td>45</td>\n",
              "      <td>154.94</td>\n",
              "    </tr>\n",
              "    <tr>\n",
              "      <th>119731</th>\n",
              "      <td>61</td>\n",
              "      <td>172.72</td>\n",
              "    </tr>\n",
              "    <tr>\n",
              "      <th>119732</th>\n",
              "      <td>74</td>\n",
              "      <td>167.64</td>\n",
              "    </tr>\n",
              "    <tr>\n",
              "      <th>119733</th>\n",
              "      <td>70</td>\n",
              "      <td>167.64</td>\n",
              "    </tr>\n",
              "  </tbody>\n",
              "</table>\n",
              "<p>119153 rows × 2 columns</p>\n",
              "</div>"
            ],
            "text/plain": [
              "        weight  height\n",
              "0           62  172.72\n",
              "1           59  167.64\n",
              "2           61  165.10\n",
              "3           65  175.26\n",
              "4           62  172.72\n",
              "...        ...     ...\n",
              "119729      63  175.26\n",
              "119730      45  154.94\n",
              "119731      61  172.72\n",
              "119732      74  167.64\n",
              "119733      70  167.64\n",
              "\n",
              "[119153 rows x 2 columns]"
            ]
          },
          "metadata": {
            "tags": []
          },
          "execution_count": 57
        }
      ]
    },
    {
      "cell_type": "code",
      "metadata": {
        "colab": {
          "base_uri": "https://localhost:8080/",
          "height": 296
        },
        "id": "3g3w7dOWAluH",
        "outputId": "aa1dd826-08b2-4ac5-c64d-95aa7199ec38"
      },
      "source": [
        "plt.scatter(df.weight,df.height)\n",
        "plt.xlabel('Weight')\n",
        "plt.ylabel('Height')"
      ],
      "execution_count": null,
      "outputs": [
        {
          "output_type": "execute_result",
          "data": {
            "text/plain": [
              "Text(0, 0.5, 'Height')"
            ]
          },
          "metadata": {
            "tags": []
          },
          "execution_count": 58
        },
        {
          "output_type": "display_data",
          "data": {
            "image/png": "[encoded data removed]",
            "text/plain": [
              "<Figure size 432x288 with 1 Axes>"
            ]
          },
          "metadata": {
            "tags": [],
            "needs_background": "light"
          }
        }
      ]
    },
    {
      "cell_type": "code",
      "metadata": {
        "id": "qfVPQTnuBNns"
      },
      "source": [
        "sse = []\n",
        "k_rng = range(1,10)\n",
        "for k in k_rng:\n",
        "  km=KMeans(n_clusters=k)\n",
        "  km.fit(df)\n",
        "  sse.append(km.inertia_)"
      ],
      "execution_count": null,
      "outputs": []
    },
    {
      "cell_type": "code",
      "metadata": {
        "colab": {
          "base_uri": "https://localhost:8080/",
          "height": 307
        },
        "id": "y8Np1OWJBkVM",
        "outputId": "05a28700-3528-4b5e-c067-feac4a97162d"
      },
      "source": [
        "plt.xlabel('K')\n",
        "plt.ylabel('Sum of Square Error')\n",
        "plt.plot(k_rng,sse)"
      ],
      "execution_count": null,
      "outputs": [
        {
          "output_type": "execute_result",
          "data": {
            "text/plain": [
              "[<matplotlib.lines.Line2D at 0x7f3c83721c90>]"
            ]
          },
          "metadata": {
            "tags": []
          },
          "execution_count": 60
        },
        {
          "output_type": "display_data",
          "data": {
            "image/png": "[encoded data removed]",
            "text/plain": [
              "<Figure size 432x288 with 1 Axes>"
            ]
          },
          "metadata": {
            "tags": [],
            "needs_background": "light"
          }
        }
      ]
    },
    {
      "cell_type": "code",
      "metadata": {
        "colab": {
          "base_uri": "https://localhost:8080/"
        },
        "id": "rCD6JKmXB6N5",
        "outputId": "3194d60e-a711-4ca9-9bf8-68a2e1f551e1"
      },
      "source": [
        "km = KMeans(n_clusters=6)\n",
        "y_predicted = km.fit_predict(df)\n",
        "y_predicted"
      ],
      "execution_count": null,
      "outputs": [
        {
          "output_type": "execute_result",
          "data": {
            "text/plain": [
              "array([4, 1, 2, ..., 4, 0, 0], dtype=int32)"
            ]
          },
          "metadata": {
            "tags": []
          },
          "execution_count": 61
        }
      ]
    },
    {
      "cell_type": "code",
      "metadata": {
        "colab": {
          "base_uri": "https://localhost:8080/",
          "height": 204
        },
        "id": "6MFIZrAbCC3h",
        "outputId": "d12a7651-24f3-4e99-b4da-30e4a7cd9836"
      },
      "source": [
        "df['cluster']=y_predicted\n",
        "df.head()"
      ],
      "execution_count": null,
      "outputs": [
        {
          "output_type": "execute_result",
          "data": {
            "text/html": [
              "<div>\n",
              "<style scoped>\n",
              "    .dataframe tbody tr th:only-of-type {\n",
              "        vertical-align: middle;\n",
              "    }\n",
              "\n",
              "    .dataframe tbody tr th {\n",
              "        vertical-align: top;\n",
              "    }\n",
              "\n",
              "    .dataframe thead th {\n",
              "        text-align: right;\n",
              "    }\n",
              "</style>\n",
              "<table border=\"1\" class=\"dataframe\">\n",
              "  <thead>\n",
              "    <tr style=\"text-align: right;\">\n",
              "      <th></th>\n",
              "      <th>weight</th>\n",
              "      <th>height</th>\n",
              "      <th>cluster</th>\n",
              "    </tr>\n",
              "  </thead>\n",
              "  <tbody>\n",
              "    <tr>\n",
              "      <th>0</th>\n",
              "      <td>62</td>\n",
              "      <td>172.72</td>\n",
              "      <td>4</td>\n",
              "    </tr>\n",
              "    <tr>\n",
              "      <th>1</th>\n",
              "      <td>59</td>\n",
              "      <td>167.64</td>\n",
              "      <td>1</td>\n",
              "    </tr>\n",
              "    <tr>\n",
              "      <th>2</th>\n",
              "      <td>61</td>\n",
              "      <td>165.10</td>\n",
              "      <td>2</td>\n",
              "    </tr>\n",
              "    <tr>\n",
              "      <th>3</th>\n",
              "      <td>65</td>\n",
              "      <td>175.26</td>\n",
              "      <td>4</td>\n",
              "    </tr>\n",
              "    <tr>\n",
              "      <th>4</th>\n",
              "      <td>62</td>\n",
              "      <td>172.72</td>\n",
              "      <td>4</td>\n",
              "    </tr>\n",
              "  </tbody>\n",
              "</table>\n",
              "</div>"
            ],
            "text/plain": [
              "   weight  height  cluster\n",
              "0      62  172.72        4\n",
              "1      59  167.64        1\n",
              "2      61  165.10        2\n",
              "3      65  175.26        4\n",
              "4      62  172.72        4"
            ]
          },
          "metadata": {
            "tags": []
          },
          "execution_count": 62
        }
      ]
    },
    {
      "cell_type": "code",
      "metadata": {
        "colab": {
          "base_uri": "https://localhost:8080/"
        },
        "id": "HNE_6OoUCMnC",
        "outputId": "493df73f-9a00-4fe2-b46a-6ce387e74931"
      },
      "source": [
        "km.cluster_centers_"
      ],
      "execution_count": null,
      "outputs": [
        {
          "output_type": "execute_result",
          "data": {
            "text/plain": [
              "array([[ 76.35708775, 169.88265413],\n",
              "       [ 55.82501672, 166.67437525],\n",
              "       [ 64.7585832 , 162.62989169],\n",
              "       [ 96.8402389 , 169.58553191],\n",
              "       [ 63.8670104 , 173.98300027],\n",
              "       [ 52.33328187, 158.00474639]])"
            ]
          },
          "metadata": {
            "tags": []
          },
          "execution_count": 63
        }
      ]
    },
    {
      "cell_type": "code",
      "metadata": {
        "colab": {
          "base_uri": "https://localhost:8080/",
          "height": 296
        },
        "id": "CpkyQ4wDCZt9",
        "outputId": "99ee1b9e-568c-4b7a-c8ad-cc77c6c065c4"
      },
      "source": [
        "df1 = df[df.cluster==0]\n",
        "df2 = df[df.cluster==1]\n",
        "df3 = df[df.cluster==2]\n",
        "df4 = df[df.cluster==3]\n",
        "df5 = df[df.cluster==4]\n",
        "df6 = df[df.cluster==5]\n",
        "# df7 = df[df.cluster==6]\n",
        "\n",
        "plt.scatter(df1.weight,df1.height,color='green')\n",
        "plt.scatter(df2.weight,df2.height,color='red')\n",
        "plt.scatter(df3.weight,df3.height,color='black')\n",
        "plt.scatter(df4.weight,df4.height,color='yellow')\n",
        "plt.scatter(df5.weight,df5.height,color='blue')\n",
        "plt.scatter(df6.weight,df6.height,color='gray')\n",
        "# plt.scatter(df7.weight,df7.height,color='pink')\n",
        "\n",
        "plt.scatter(km.cluster_centers_[:,0],km.cluster_centers_[:,1],color='purple',marker='*',label='centroid')\n",
        "\n",
        "plt.xlabel('Weight')\n",
        "plt.ylabel('Height')\n",
        "plt.legend()"
      ],
      "execution_count": null,
      "outputs": [
        {
          "output_type": "execute_result",
          "data": {
            "text/plain": [
              "<matplotlib.legend.Legend at 0x7f3c73f0f510>"
            ]
          },
          "metadata": {
            "tags": []
          },
          "execution_count": 64
        },
        {
          "output_type": "display_data",
          "data": {
            "image/png": "[encoded data removed]",
            "text/plain": [
              "<Figure size 432x288 with 1 Axes>"
            ]
          },
          "metadata": {
            "tags": [],
            "needs_background": "light"
          }
        }
      ]
    },
    {
      "cell_type": "code",
      "metadata": {
        "colab": {
          "base_uri": "https://localhost:8080/",
          "height": 281
        },
        "id": "4TEHPb0k8Zrc",
        "outputId": "e9aceff8-497f-4866-c169-b7c9cc0a5208"
      },
      "source": [
        "labels = ['LR', 'LG', 'KNN', 'MNB', 'DT', 'RMF','SVC']\n",
        "accuracies = [lin_acc, log_acc, knn_acc, mnb_acc, dt_acc, rmf_acc,svc_acc]\n",
        "\n",
        "x = [0,1,2,3,4,5,6]\n",
        "width=0.35\n",
        "\n",
        "fig, ax = plt.subplots()\n",
        "ax.bar(x=labels,height=accuracies)\n",
        "\n",
        "ax.set_ylabel('Accuracy')\n",
        "ax.set_title('Classification Accuracy of ML models')\n",
        "ax.set_xticks(x)\n",
        "ax.set_xticklabels(labels)\n",
        "\n",
        "plt.show()"
      ],
      "execution_count": null,
      "outputs": [
        {
          "output_type": "display_data",
          "data": {
            "image/png": "[encoded data removed]",
            "text/plain": [
              "<Figure size 432x288 with 1 Axes>"
            ]
          },
          "metadata": {
            "tags": [],
            "needs_background": "light"
          }
        }
      ]
    }
  ]
}